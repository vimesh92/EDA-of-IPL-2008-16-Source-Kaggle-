{
 "cells": [
  {
   "cell_type": "code",
   "execution_count": 36,
   "metadata": {},
   "outputs": [],
   "source": [
    "import pandas as pd\n",
    "import numpy as np\n",
    "import matplotlib.pyplot as plt\n",
    "import seaborn as sns"
   ]
  },
  {
   "cell_type": "code",
   "execution_count": 2,
   "metadata": {},
   "outputs": [],
   "source": [
    "ipl_data=pd.read_csv('C:/Users/Vimesh/Documents/PGP DSE/ipl/deliveries.csv')"
   ]
  },
  {
   "cell_type": "code",
   "execution_count": 3,
   "metadata": {},
   "outputs": [
    {
     "data": {
      "text/html": [
       "<div>\n",
       "<style scoped>\n",
       "    .dataframe tbody tr th:only-of-type {\n",
       "        vertical-align: middle;\n",
       "    }\n",
       "\n",
       "    .dataframe tbody tr th {\n",
       "        vertical-align: top;\n",
       "    }\n",
       "\n",
       "    .dataframe thead th {\n",
       "        text-align: right;\n",
       "    }\n",
       "</style>\n",
       "<table border=\"1\" class=\"dataframe\">\n",
       "  <thead>\n",
       "    <tr style=\"text-align: right;\">\n",
       "      <th></th>\n",
       "      <th>count</th>\n",
       "      <th>mean</th>\n",
       "      <th>std</th>\n",
       "      <th>min</th>\n",
       "      <th>25%</th>\n",
       "      <th>50%</th>\n",
       "      <th>75%</th>\n",
       "      <th>max</th>\n",
       "    </tr>\n",
       "  </thead>\n",
       "  <tbody>\n",
       "    <tr>\n",
       "      <th>match_id</th>\n",
       "      <td>150460.0</td>\n",
       "      <td>318.281317</td>\n",
       "      <td>182.955531</td>\n",
       "      <td>1.0</td>\n",
       "      <td>161.0</td>\n",
       "      <td>319.0</td>\n",
       "      <td>476.0</td>\n",
       "      <td>636.0</td>\n",
       "    </tr>\n",
       "    <tr>\n",
       "      <th>inning</th>\n",
       "      <td>150460.0</td>\n",
       "      <td>1.482188</td>\n",
       "      <td>0.501768</td>\n",
       "      <td>1.0</td>\n",
       "      <td>1.0</td>\n",
       "      <td>1.0</td>\n",
       "      <td>2.0</td>\n",
       "      <td>4.0</td>\n",
       "    </tr>\n",
       "    <tr>\n",
       "      <th>over</th>\n",
       "      <td>150460.0</td>\n",
       "      <td>10.142649</td>\n",
       "      <td>5.674338</td>\n",
       "      <td>1.0</td>\n",
       "      <td>5.0</td>\n",
       "      <td>10.0</td>\n",
       "      <td>15.0</td>\n",
       "      <td>20.0</td>\n",
       "    </tr>\n",
       "    <tr>\n",
       "      <th>ball</th>\n",
       "      <td>150460.0</td>\n",
       "      <td>3.616483</td>\n",
       "      <td>1.807698</td>\n",
       "      <td>1.0</td>\n",
       "      <td>2.0</td>\n",
       "      <td>4.0</td>\n",
       "      <td>5.0</td>\n",
       "      <td>9.0</td>\n",
       "    </tr>\n",
       "    <tr>\n",
       "      <th>is_super_over</th>\n",
       "      <td>150460.0</td>\n",
       "      <td>0.000538</td>\n",
       "      <td>0.023196</td>\n",
       "      <td>0.0</td>\n",
       "      <td>0.0</td>\n",
       "      <td>0.0</td>\n",
       "      <td>0.0</td>\n",
       "      <td>1.0</td>\n",
       "    </tr>\n",
       "    <tr>\n",
       "      <th>wide_runs</th>\n",
       "      <td>150460.0</td>\n",
       "      <td>0.037498</td>\n",
       "      <td>0.257398</td>\n",
       "      <td>0.0</td>\n",
       "      <td>0.0</td>\n",
       "      <td>0.0</td>\n",
       "      <td>0.0</td>\n",
       "      <td>5.0</td>\n",
       "    </tr>\n",
       "    <tr>\n",
       "      <th>bye_runs</th>\n",
       "      <td>150460.0</td>\n",
       "      <td>0.004885</td>\n",
       "      <td>0.114234</td>\n",
       "      <td>0.0</td>\n",
       "      <td>0.0</td>\n",
       "      <td>0.0</td>\n",
       "      <td>0.0</td>\n",
       "      <td>4.0</td>\n",
       "    </tr>\n",
       "    <tr>\n",
       "      <th>legbye_runs</th>\n",
       "      <td>150460.0</td>\n",
       "      <td>0.022232</td>\n",
       "      <td>0.200104</td>\n",
       "      <td>0.0</td>\n",
       "      <td>0.0</td>\n",
       "      <td>0.0</td>\n",
       "      <td>0.0</td>\n",
       "      <td>5.0</td>\n",
       "    </tr>\n",
       "    <tr>\n",
       "      <th>noball_runs</th>\n",
       "      <td>150460.0</td>\n",
       "      <td>0.004340</td>\n",
       "      <td>0.072652</td>\n",
       "      <td>0.0</td>\n",
       "      <td>0.0</td>\n",
       "      <td>0.0</td>\n",
       "      <td>0.0</td>\n",
       "      <td>5.0</td>\n",
       "    </tr>\n",
       "    <tr>\n",
       "      <th>penalty_runs</th>\n",
       "      <td>150460.0</td>\n",
       "      <td>0.000066</td>\n",
       "      <td>0.018229</td>\n",
       "      <td>0.0</td>\n",
       "      <td>0.0</td>\n",
       "      <td>0.0</td>\n",
       "      <td>0.0</td>\n",
       "      <td>5.0</td>\n",
       "    </tr>\n",
       "    <tr>\n",
       "      <th>batsman_runs</th>\n",
       "      <td>150460.0</td>\n",
       "      <td>1.222445</td>\n",
       "      <td>1.594509</td>\n",
       "      <td>0.0</td>\n",
       "      <td>0.0</td>\n",
       "      <td>1.0</td>\n",
       "      <td>1.0</td>\n",
       "      <td>6.0</td>\n",
       "    </tr>\n",
       "    <tr>\n",
       "      <th>extra_runs</th>\n",
       "      <td>150460.0</td>\n",
       "      <td>0.069022</td>\n",
       "      <td>0.349667</td>\n",
       "      <td>0.0</td>\n",
       "      <td>0.0</td>\n",
       "      <td>0.0</td>\n",
       "      <td>0.0</td>\n",
       "      <td>7.0</td>\n",
       "    </tr>\n",
       "    <tr>\n",
       "      <th>total_runs</th>\n",
       "      <td>150460.0</td>\n",
       "      <td>1.291466</td>\n",
       "      <td>1.583240</td>\n",
       "      <td>0.0</td>\n",
       "      <td>0.0</td>\n",
       "      <td>1.0</td>\n",
       "      <td>1.0</td>\n",
       "      <td>7.0</td>\n",
       "    </tr>\n",
       "  </tbody>\n",
       "</table>\n",
       "</div>"
      ],
      "text/plain": [
       "                  count        mean         std  min    25%    50%    75%  \\\n",
       "match_id       150460.0  318.281317  182.955531  1.0  161.0  319.0  476.0   \n",
       "inning         150460.0    1.482188    0.501768  1.0    1.0    1.0    2.0   \n",
       "over           150460.0   10.142649    5.674338  1.0    5.0   10.0   15.0   \n",
       "ball           150460.0    3.616483    1.807698  1.0    2.0    4.0    5.0   \n",
       "is_super_over  150460.0    0.000538    0.023196  0.0    0.0    0.0    0.0   \n",
       "wide_runs      150460.0    0.037498    0.257398  0.0    0.0    0.0    0.0   \n",
       "bye_runs       150460.0    0.004885    0.114234  0.0    0.0    0.0    0.0   \n",
       "legbye_runs    150460.0    0.022232    0.200104  0.0    0.0    0.0    0.0   \n",
       "noball_runs    150460.0    0.004340    0.072652  0.0    0.0    0.0    0.0   \n",
       "penalty_runs   150460.0    0.000066    0.018229  0.0    0.0    0.0    0.0   \n",
       "batsman_runs   150460.0    1.222445    1.594509  0.0    0.0    1.0    1.0   \n",
       "extra_runs     150460.0    0.069022    0.349667  0.0    0.0    0.0    0.0   \n",
       "total_runs     150460.0    1.291466    1.583240  0.0    0.0    1.0    1.0   \n",
       "\n",
       "                 max  \n",
       "match_id       636.0  \n",
       "inning           4.0  \n",
       "over            20.0  \n",
       "ball             9.0  \n",
       "is_super_over    1.0  \n",
       "wide_runs        5.0  \n",
       "bye_runs         4.0  \n",
       "legbye_runs      5.0  \n",
       "noball_runs      5.0  \n",
       "penalty_runs     5.0  \n",
       "batsman_runs     6.0  \n",
       "extra_runs       7.0  \n",
       "total_runs       7.0  "
      ]
     },
     "execution_count": 3,
     "metadata": {},
     "output_type": "execute_result"
    }
   ],
   "source": [
    "ipl_data.describe().T #Decribing Stats of deliveries"
   ]
  },
  {
   "cell_type": "code",
   "execution_count": 4,
   "metadata": {},
   "outputs": [
    {
     "name": "stdout",
     "output_type": "stream",
     "text": [
      "<class 'pandas.core.frame.DataFrame'>\n",
      "RangeIndex: 150460 entries, 0 to 150459\n",
      "Data columns (total 21 columns):\n",
      "match_id            150460 non-null int64\n",
      "inning              150460 non-null int64\n",
      "batting_team        150460 non-null object\n",
      "bowling_team        150460 non-null object\n",
      "over                150460 non-null int64\n",
      "ball                150460 non-null int64\n",
      "batsman             150460 non-null object\n",
      "non_striker         150460 non-null object\n",
      "bowler              150460 non-null object\n",
      "is_super_over       150460 non-null int64\n",
      "wide_runs           150460 non-null int64\n",
      "bye_runs            150460 non-null int64\n",
      "legbye_runs         150460 non-null int64\n",
      "noball_runs         150460 non-null int64\n",
      "penalty_runs        150460 non-null int64\n",
      "batsman_runs        150460 non-null int64\n",
      "extra_runs          150460 non-null int64\n",
      "total_runs          150460 non-null int64\n",
      "player_dismissed    7438 non-null object\n",
      "dismissal_kind      7438 non-null object\n",
      "fielder             5369 non-null object\n",
      "dtypes: int64(13), object(8)\n",
      "memory usage: 24.1+ MB\n"
     ]
    }
   ],
   "source": [
    "ipl_data.info()"
   ]
  },
  {
   "cell_type": "code",
   "execution_count": 5,
   "metadata": {},
   "outputs": [
    {
     "data": {
      "text/plain": [
       "match_id                 0\n",
       "inning                   0\n",
       "batting_team             0\n",
       "bowling_team             0\n",
       "over                     0\n",
       "ball                     0\n",
       "batsman                  0\n",
       "non_striker              0\n",
       "bowler                   0\n",
       "is_super_over            0\n",
       "wide_runs                0\n",
       "bye_runs                 0\n",
       "legbye_runs              0\n",
       "noball_runs              0\n",
       "penalty_runs             0\n",
       "batsman_runs             0\n",
       "extra_runs               0\n",
       "total_runs               0\n",
       "player_dismissed    143022\n",
       "dismissal_kind      143022\n",
       "fielder             145091\n",
       "dtype: int64"
      ]
     },
     "execution_count": 5,
     "metadata": {},
     "output_type": "execute_result"
    }
   ],
   "source": [
    "ipl_data.isnull().sum() #checking null values in data"
   ]
  },
  {
   "cell_type": "code",
   "execution_count": 6,
   "metadata": {},
   "outputs": [],
   "source": [
    "#player_dismissed    143022\n",
    "#dismissal_kind      143022\n",
    "#fielder             145091"
   ]
  },
  {
   "cell_type": "code",
   "execution_count": 7,
   "metadata": {},
   "outputs": [],
   "source": [
    "ipl_data_matches=pd.read_csv('C:/Users/Vimesh/Documents/PGP DSE/ipl/matches.csv')"
   ]
  },
  {
   "cell_type": "code",
   "execution_count": 8,
   "metadata": {},
   "outputs": [
    {
     "name": "stdout",
     "output_type": "stream",
     "text": [
      "<class 'pandas.core.frame.DataFrame'>\n",
      "RangeIndex: 636 entries, 0 to 635\n",
      "Data columns (total 18 columns):\n",
      "id                 636 non-null int64\n",
      "season             636 non-null int64\n",
      "city               629 non-null object\n",
      "date               636 non-null object\n",
      "team1              636 non-null object\n",
      "team2              636 non-null object\n",
      "toss_winner        636 non-null object\n",
      "toss_decision      636 non-null object\n",
      "result             636 non-null object\n",
      "dl_applied         636 non-null int64\n",
      "winner             633 non-null object\n",
      "win_by_runs        636 non-null int64\n",
      "win_by_wickets     636 non-null int64\n",
      "player_of_match    633 non-null object\n",
      "venue              636 non-null object\n",
      "umpire1            635 non-null object\n",
      "umpire2            635 non-null object\n",
      "umpire3            0 non-null float64\n",
      "dtypes: float64(1), int64(5), object(12)\n",
      "memory usage: 89.5+ KB\n"
     ]
    }
   ],
   "source": [
    "ipl_data_matches.info()"
   ]
  },
  {
   "cell_type": "code",
   "execution_count": 9,
   "metadata": {},
   "outputs": [
    {
     "data": {
      "text/html": [
       "<div>\n",
       "<style scoped>\n",
       "    .dataframe tbody tr th:only-of-type {\n",
       "        vertical-align: middle;\n",
       "    }\n",
       "\n",
       "    .dataframe tbody tr th {\n",
       "        vertical-align: top;\n",
       "    }\n",
       "\n",
       "    .dataframe thead th {\n",
       "        text-align: right;\n",
       "    }\n",
       "</style>\n",
       "<table border=\"1\" class=\"dataframe\">\n",
       "  <thead>\n",
       "    <tr style=\"text-align: right;\">\n",
       "      <th></th>\n",
       "      <th>match_id</th>\n",
       "      <th>inning</th>\n",
       "      <th>batting_team</th>\n",
       "      <th>bowling_team</th>\n",
       "      <th>over</th>\n",
       "      <th>ball</th>\n",
       "      <th>batsman</th>\n",
       "      <th>non_striker</th>\n",
       "      <th>bowler</th>\n",
       "      <th>is_super_over</th>\n",
       "      <th>...</th>\n",
       "      <th>bye_runs</th>\n",
       "      <th>legbye_runs</th>\n",
       "      <th>noball_runs</th>\n",
       "      <th>penalty_runs</th>\n",
       "      <th>batsman_runs</th>\n",
       "      <th>extra_runs</th>\n",
       "      <th>total_runs</th>\n",
       "      <th>player_dismissed</th>\n",
       "      <th>dismissal_kind</th>\n",
       "      <th>fielder</th>\n",
       "    </tr>\n",
       "  </thead>\n",
       "  <tbody>\n",
       "    <tr>\n",
       "      <th>0</th>\n",
       "      <td>1</td>\n",
       "      <td>1</td>\n",
       "      <td>Sunrisers Hyderabad</td>\n",
       "      <td>Royal Challengers Bangalore</td>\n",
       "      <td>1</td>\n",
       "      <td>1</td>\n",
       "      <td>DA Warner</td>\n",
       "      <td>S Dhawan</td>\n",
       "      <td>TS Mills</td>\n",
       "      <td>0</td>\n",
       "      <td>...</td>\n",
       "      <td>0</td>\n",
       "      <td>0</td>\n",
       "      <td>0</td>\n",
       "      <td>0</td>\n",
       "      <td>0</td>\n",
       "      <td>0</td>\n",
       "      <td>0</td>\n",
       "      <td>NaN</td>\n",
       "      <td>NaN</td>\n",
       "      <td>NaN</td>\n",
       "    </tr>\n",
       "    <tr>\n",
       "      <th>1</th>\n",
       "      <td>1</td>\n",
       "      <td>1</td>\n",
       "      <td>Sunrisers Hyderabad</td>\n",
       "      <td>Royal Challengers Bangalore</td>\n",
       "      <td>1</td>\n",
       "      <td>2</td>\n",
       "      <td>DA Warner</td>\n",
       "      <td>S Dhawan</td>\n",
       "      <td>TS Mills</td>\n",
       "      <td>0</td>\n",
       "      <td>...</td>\n",
       "      <td>0</td>\n",
       "      <td>0</td>\n",
       "      <td>0</td>\n",
       "      <td>0</td>\n",
       "      <td>0</td>\n",
       "      <td>0</td>\n",
       "      <td>0</td>\n",
       "      <td>NaN</td>\n",
       "      <td>NaN</td>\n",
       "      <td>NaN</td>\n",
       "    </tr>\n",
       "    <tr>\n",
       "      <th>2</th>\n",
       "      <td>1</td>\n",
       "      <td>1</td>\n",
       "      <td>Sunrisers Hyderabad</td>\n",
       "      <td>Royal Challengers Bangalore</td>\n",
       "      <td>1</td>\n",
       "      <td>3</td>\n",
       "      <td>DA Warner</td>\n",
       "      <td>S Dhawan</td>\n",
       "      <td>TS Mills</td>\n",
       "      <td>0</td>\n",
       "      <td>...</td>\n",
       "      <td>0</td>\n",
       "      <td>0</td>\n",
       "      <td>0</td>\n",
       "      <td>0</td>\n",
       "      <td>4</td>\n",
       "      <td>0</td>\n",
       "      <td>4</td>\n",
       "      <td>NaN</td>\n",
       "      <td>NaN</td>\n",
       "      <td>NaN</td>\n",
       "    </tr>\n",
       "    <tr>\n",
       "      <th>3</th>\n",
       "      <td>1</td>\n",
       "      <td>1</td>\n",
       "      <td>Sunrisers Hyderabad</td>\n",
       "      <td>Royal Challengers Bangalore</td>\n",
       "      <td>1</td>\n",
       "      <td>4</td>\n",
       "      <td>DA Warner</td>\n",
       "      <td>S Dhawan</td>\n",
       "      <td>TS Mills</td>\n",
       "      <td>0</td>\n",
       "      <td>...</td>\n",
       "      <td>0</td>\n",
       "      <td>0</td>\n",
       "      <td>0</td>\n",
       "      <td>0</td>\n",
       "      <td>0</td>\n",
       "      <td>0</td>\n",
       "      <td>0</td>\n",
       "      <td>NaN</td>\n",
       "      <td>NaN</td>\n",
       "      <td>NaN</td>\n",
       "    </tr>\n",
       "    <tr>\n",
       "      <th>4</th>\n",
       "      <td>1</td>\n",
       "      <td>1</td>\n",
       "      <td>Sunrisers Hyderabad</td>\n",
       "      <td>Royal Challengers Bangalore</td>\n",
       "      <td>1</td>\n",
       "      <td>5</td>\n",
       "      <td>DA Warner</td>\n",
       "      <td>S Dhawan</td>\n",
       "      <td>TS Mills</td>\n",
       "      <td>0</td>\n",
       "      <td>...</td>\n",
       "      <td>0</td>\n",
       "      <td>0</td>\n",
       "      <td>0</td>\n",
       "      <td>0</td>\n",
       "      <td>0</td>\n",
       "      <td>2</td>\n",
       "      <td>2</td>\n",
       "      <td>NaN</td>\n",
       "      <td>NaN</td>\n",
       "      <td>NaN</td>\n",
       "    </tr>\n",
       "  </tbody>\n",
       "</table>\n",
       "<p>5 rows × 21 columns</p>\n",
       "</div>"
      ],
      "text/plain": [
       "   match_id  inning         batting_team                 bowling_team  over  \\\n",
       "0         1       1  Sunrisers Hyderabad  Royal Challengers Bangalore     1   \n",
       "1         1       1  Sunrisers Hyderabad  Royal Challengers Bangalore     1   \n",
       "2         1       1  Sunrisers Hyderabad  Royal Challengers Bangalore     1   \n",
       "3         1       1  Sunrisers Hyderabad  Royal Challengers Bangalore     1   \n",
       "4         1       1  Sunrisers Hyderabad  Royal Challengers Bangalore     1   \n",
       "\n",
       "   ball    batsman non_striker    bowler  is_super_over  ...  bye_runs  \\\n",
       "0     1  DA Warner    S Dhawan  TS Mills              0  ...         0   \n",
       "1     2  DA Warner    S Dhawan  TS Mills              0  ...         0   \n",
       "2     3  DA Warner    S Dhawan  TS Mills              0  ...         0   \n",
       "3     4  DA Warner    S Dhawan  TS Mills              0  ...         0   \n",
       "4     5  DA Warner    S Dhawan  TS Mills              0  ...         0   \n",
       "\n",
       "   legbye_runs  noball_runs  penalty_runs  batsman_runs  extra_runs  \\\n",
       "0            0            0             0             0           0   \n",
       "1            0            0             0             0           0   \n",
       "2            0            0             0             4           0   \n",
       "3            0            0             0             0           0   \n",
       "4            0            0             0             0           2   \n",
       "\n",
       "   total_runs  player_dismissed dismissal_kind fielder  \n",
       "0           0               NaN            NaN     NaN  \n",
       "1           0               NaN            NaN     NaN  \n",
       "2           4               NaN            NaN     NaN  \n",
       "3           0               NaN            NaN     NaN  \n",
       "4           2               NaN            NaN     NaN  \n",
       "\n",
       "[5 rows x 21 columns]"
      ]
     },
     "execution_count": 9,
     "metadata": {},
     "output_type": "execute_result"
    }
   ],
   "source": [
    "#total_Data= #pd.merge(ipl_data,ipl_data_matches,how='inner',on=[ipl_data.match_id,ipl_data_matches.id])\n",
    "\n",
    "ipl_data.head()\n"
   ]
  },
  {
   "cell_type": "code",
   "execution_count": 10,
   "metadata": {},
   "outputs": [
    {
     "data": {
      "text/plain": [
       "(636, 18)"
      ]
     },
     "execution_count": 10,
     "metadata": {},
     "output_type": "execute_result"
    }
   ],
   "source": [
    "ipl_data_matches.shape"
   ]
  },
  {
   "cell_type": "code",
   "execution_count": 11,
   "metadata": {},
   "outputs": [
    {
     "data": {
      "text/plain": [
       "(150460, 21)"
      ]
     },
     "execution_count": 11,
     "metadata": {},
     "output_type": "execute_result"
    }
   ],
   "source": [
    "ipl_data.shape"
   ]
  },
  {
   "cell_type": "code",
   "execution_count": 12,
   "metadata": {},
   "outputs": [
    {
     "data": {
      "text/html": [
       "<div>\n",
       "<style scoped>\n",
       "    .dataframe tbody tr th:only-of-type {\n",
       "        vertical-align: middle;\n",
       "    }\n",
       "\n",
       "    .dataframe tbody tr th {\n",
       "        vertical-align: top;\n",
       "    }\n",
       "\n",
       "    .dataframe thead th {\n",
       "        text-align: right;\n",
       "    }\n",
       "</style>\n",
       "<table border=\"1\" class=\"dataframe\">\n",
       "  <thead>\n",
       "    <tr style=\"text-align: right;\">\n",
       "      <th></th>\n",
       "      <th>match_id</th>\n",
       "      <th>inning</th>\n",
       "      <th>over</th>\n",
       "      <th>ball</th>\n",
       "      <th>is_super_over</th>\n",
       "      <th>wide_runs</th>\n",
       "      <th>bye_runs</th>\n",
       "      <th>legbye_runs</th>\n",
       "      <th>noball_runs</th>\n",
       "      <th>penalty_runs</th>\n",
       "      <th>batsman_runs</th>\n",
       "      <th>extra_runs</th>\n",
       "      <th>total_runs</th>\n",
       "    </tr>\n",
       "  </thead>\n",
       "  <tbody>\n",
       "    <tr>\n",
       "      <th>match_id</th>\n",
       "      <td>1.000000</td>\n",
       "      <td>0.001033</td>\n",
       "      <td>0.004365</td>\n",
       "      <td>-0.002464</td>\n",
       "      <td>-0.001220</td>\n",
       "      <td>-0.004850</td>\n",
       "      <td>-0.004662</td>\n",
       "      <td>-0.004324</td>\n",
       "      <td>-0.005849</td>\n",
       "      <td>-0.000972</td>\n",
       "      <td>0.006273</td>\n",
       "      <td>-0.008833</td>\n",
       "      <td>0.004366</td>\n",
       "    </tr>\n",
       "    <tr>\n",
       "      <th>inning</th>\n",
       "      <td>0.001033</td>\n",
       "      <td>1.000000</td>\n",
       "      <td>-0.051496</td>\n",
       "      <td>-0.003618</td>\n",
       "      <td>0.091904</td>\n",
       "      <td>0.001055</td>\n",
       "      <td>-0.000395</td>\n",
       "      <td>-0.001385</td>\n",
       "      <td>0.000389</td>\n",
       "      <td>0.003763</td>\n",
       "      <td>-0.005668</td>\n",
       "      <td>0.000132</td>\n",
       "      <td>-0.005680</td>\n",
       "    </tr>\n",
       "    <tr>\n",
       "      <th>over</th>\n",
       "      <td>0.004365</td>\n",
       "      <td>-0.051496</td>\n",
       "      <td>1.000000</td>\n",
       "      <td>-0.010953</td>\n",
       "      <td>-0.037394</td>\n",
       "      <td>-0.016226</td>\n",
       "      <td>0.013669</td>\n",
       "      <td>-0.005907</td>\n",
       "      <td>0.015717</td>\n",
       "      <td>-0.001055</td>\n",
       "      <td>0.089945</td>\n",
       "      <td>-0.007649</td>\n",
       "      <td>0.088896</td>\n",
       "    </tr>\n",
       "    <tr>\n",
       "      <th>ball</th>\n",
       "      <td>-0.002464</td>\n",
       "      <td>-0.003618</td>\n",
       "      <td>-0.010953</td>\n",
       "      <td>1.000000</td>\n",
       "      <td>-0.001258</td>\n",
       "      <td>-0.005931</td>\n",
       "      <td>0.006755</td>\n",
       "      <td>-0.004449</td>\n",
       "      <td>0.002350</td>\n",
       "      <td>0.000774</td>\n",
       "      <td>0.008944</td>\n",
       "      <td>-0.004176</td>\n",
       "      <td>0.008086</td>\n",
       "    </tr>\n",
       "    <tr>\n",
       "      <th>is_super_over</th>\n",
       "      <td>-0.001220</td>\n",
       "      <td>0.091904</td>\n",
       "      <td>-0.037394</td>\n",
       "      <td>-0.001258</td>\n",
       "      <td>1.000000</td>\n",
       "      <td>-0.001155</td>\n",
       "      <td>0.001516</td>\n",
       "      <td>0.001717</td>\n",
       "      <td>0.014389</td>\n",
       "      <td>-0.000085</td>\n",
       "      <td>0.011497</td>\n",
       "      <td>0.003613</td>\n",
       "      <td>0.012377</td>\n",
       "    </tr>\n",
       "    <tr>\n",
       "      <th>wide_runs</th>\n",
       "      <td>-0.004850</td>\n",
       "      <td>0.001055</td>\n",
       "      <td>-0.016226</td>\n",
       "      <td>-0.005931</td>\n",
       "      <td>-0.001155</td>\n",
       "      <td>1.000000</td>\n",
       "      <td>-0.006230</td>\n",
       "      <td>-0.016186</td>\n",
       "      <td>-0.008703</td>\n",
       "      <td>0.013633</td>\n",
       "      <td>-0.111690</td>\n",
       "      <td>0.723726</td>\n",
       "      <td>0.047354</td>\n",
       "    </tr>\n",
       "    <tr>\n",
       "      <th>bye_runs</th>\n",
       "      <td>-0.004662</td>\n",
       "      <td>-0.000395</td>\n",
       "      <td>0.013669</td>\n",
       "      <td>0.006755</td>\n",
       "      <td>0.001516</td>\n",
       "      <td>-0.006230</td>\n",
       "      <td>1.000000</td>\n",
       "      <td>-0.004751</td>\n",
       "      <td>-0.002555</td>\n",
       "      <td>-0.000156</td>\n",
       "      <td>-0.032785</td>\n",
       "      <td>0.318850</td>\n",
       "      <td>0.037402</td>\n",
       "    </tr>\n",
       "    <tr>\n",
       "      <th>legbye_runs</th>\n",
       "      <td>-0.004324</td>\n",
       "      <td>-0.001385</td>\n",
       "      <td>-0.005907</td>\n",
       "      <td>-0.004449</td>\n",
       "      <td>0.001717</td>\n",
       "      <td>-0.016186</td>\n",
       "      <td>-0.004751</td>\n",
       "      <td>1.000000</td>\n",
       "      <td>-0.006637</td>\n",
       "      <td>-0.000405</td>\n",
       "      <td>-0.085177</td>\n",
       "      <td>0.557403</td>\n",
       "      <td>0.037322</td>\n",
       "    </tr>\n",
       "    <tr>\n",
       "      <th>noball_runs</th>\n",
       "      <td>-0.005849</td>\n",
       "      <td>0.000389</td>\n",
       "      <td>0.015717</td>\n",
       "      <td>0.002350</td>\n",
       "      <td>0.014389</td>\n",
       "      <td>-0.008703</td>\n",
       "      <td>-0.002555</td>\n",
       "      <td>-0.006637</td>\n",
       "      <td>1.000000</td>\n",
       "      <td>-0.000218</td>\n",
       "      <td>0.000272</td>\n",
       "      <td>0.196724</td>\n",
       "      <td>0.043722</td>\n",
       "    </tr>\n",
       "    <tr>\n",
       "      <th>penalty_runs</th>\n",
       "      <td>-0.000972</td>\n",
       "      <td>0.003763</td>\n",
       "      <td>-0.001055</td>\n",
       "      <td>0.000774</td>\n",
       "      <td>-0.000085</td>\n",
       "      <td>0.013633</td>\n",
       "      <td>-0.000156</td>\n",
       "      <td>-0.000405</td>\n",
       "      <td>-0.000218</td>\n",
       "      <td>1.000000</td>\n",
       "      <td>-0.002795</td>\n",
       "      <td>0.061842</td>\n",
       "      <td>0.010843</td>\n",
       "    </tr>\n",
       "    <tr>\n",
       "      <th>batsman_runs</th>\n",
       "      <td>0.006273</td>\n",
       "      <td>-0.005668</td>\n",
       "      <td>0.089945</td>\n",
       "      <td>0.008944</td>\n",
       "      <td>0.011497</td>\n",
       "      <td>-0.111690</td>\n",
       "      <td>-0.032785</td>\n",
       "      <td>-0.085177</td>\n",
       "      <td>0.000272</td>\n",
       "      <td>-0.002795</td>\n",
       "      <td>1.000000</td>\n",
       "      <td>-0.141761</td>\n",
       "      <td>0.975809</td>\n",
       "    </tr>\n",
       "    <tr>\n",
       "      <th>extra_runs</th>\n",
       "      <td>-0.008833</td>\n",
       "      <td>0.000132</td>\n",
       "      <td>-0.007649</td>\n",
       "      <td>-0.004176</td>\n",
       "      <td>0.003613</td>\n",
       "      <td>0.723726</td>\n",
       "      <td>0.318850</td>\n",
       "      <td>0.557403</td>\n",
       "      <td>0.196724</td>\n",
       "      <td>0.061842</td>\n",
       "      <td>-0.141761</td>\n",
       "      <td>1.000000</td>\n",
       "      <td>0.078085</td>\n",
       "    </tr>\n",
       "    <tr>\n",
       "      <th>total_runs</th>\n",
       "      <td>0.004366</td>\n",
       "      <td>-0.005680</td>\n",
       "      <td>0.088896</td>\n",
       "      <td>0.008086</td>\n",
       "      <td>0.012377</td>\n",
       "      <td>0.047354</td>\n",
       "      <td>0.037402</td>\n",
       "      <td>0.037322</td>\n",
       "      <td>0.043722</td>\n",
       "      <td>0.010843</td>\n",
       "      <td>0.975809</td>\n",
       "      <td>0.078085</td>\n",
       "      <td>1.000000</td>\n",
       "    </tr>\n",
       "  </tbody>\n",
       "</table>\n",
       "</div>"
      ],
      "text/plain": [
       "               match_id    inning      over      ball  is_super_over  \\\n",
       "match_id       1.000000  0.001033  0.004365 -0.002464      -0.001220   \n",
       "inning         0.001033  1.000000 -0.051496 -0.003618       0.091904   \n",
       "over           0.004365 -0.051496  1.000000 -0.010953      -0.037394   \n",
       "ball          -0.002464 -0.003618 -0.010953  1.000000      -0.001258   \n",
       "is_super_over -0.001220  0.091904 -0.037394 -0.001258       1.000000   \n",
       "wide_runs     -0.004850  0.001055 -0.016226 -0.005931      -0.001155   \n",
       "bye_runs      -0.004662 -0.000395  0.013669  0.006755       0.001516   \n",
       "legbye_runs   -0.004324 -0.001385 -0.005907 -0.004449       0.001717   \n",
       "noball_runs   -0.005849  0.000389  0.015717  0.002350       0.014389   \n",
       "penalty_runs  -0.000972  0.003763 -0.001055  0.000774      -0.000085   \n",
       "batsman_runs   0.006273 -0.005668  0.089945  0.008944       0.011497   \n",
       "extra_runs    -0.008833  0.000132 -0.007649 -0.004176       0.003613   \n",
       "total_runs     0.004366 -0.005680  0.088896  0.008086       0.012377   \n",
       "\n",
       "               wide_runs  bye_runs  legbye_runs  noball_runs  penalty_runs  \\\n",
       "match_id       -0.004850 -0.004662    -0.004324    -0.005849     -0.000972   \n",
       "inning          0.001055 -0.000395    -0.001385     0.000389      0.003763   \n",
       "over           -0.016226  0.013669    -0.005907     0.015717     -0.001055   \n",
       "ball           -0.005931  0.006755    -0.004449     0.002350      0.000774   \n",
       "is_super_over  -0.001155  0.001516     0.001717     0.014389     -0.000085   \n",
       "wide_runs       1.000000 -0.006230    -0.016186    -0.008703      0.013633   \n",
       "bye_runs       -0.006230  1.000000    -0.004751    -0.002555     -0.000156   \n",
       "legbye_runs    -0.016186 -0.004751     1.000000    -0.006637     -0.000405   \n",
       "noball_runs    -0.008703 -0.002555    -0.006637     1.000000     -0.000218   \n",
       "penalty_runs    0.013633 -0.000156    -0.000405    -0.000218      1.000000   \n",
       "batsman_runs   -0.111690 -0.032785    -0.085177     0.000272     -0.002795   \n",
       "extra_runs      0.723726  0.318850     0.557403     0.196724      0.061842   \n",
       "total_runs      0.047354  0.037402     0.037322     0.043722      0.010843   \n",
       "\n",
       "               batsman_runs  extra_runs  total_runs  \n",
       "match_id           0.006273   -0.008833    0.004366  \n",
       "inning            -0.005668    0.000132   -0.005680  \n",
       "over               0.089945   -0.007649    0.088896  \n",
       "ball               0.008944   -0.004176    0.008086  \n",
       "is_super_over      0.011497    0.003613    0.012377  \n",
       "wide_runs         -0.111690    0.723726    0.047354  \n",
       "bye_runs          -0.032785    0.318850    0.037402  \n",
       "legbye_runs       -0.085177    0.557403    0.037322  \n",
       "noball_runs        0.000272    0.196724    0.043722  \n",
       "penalty_runs      -0.002795    0.061842    0.010843  \n",
       "batsman_runs       1.000000   -0.141761    0.975809  \n",
       "extra_runs        -0.141761    1.000000    0.078085  \n",
       "total_runs         0.975809    0.078085    1.000000  "
      ]
     },
     "execution_count": 12,
     "metadata": {},
     "output_type": "execute_result"
    }
   ],
   "source": [
    "ipl_data.corr()"
   ]
  },
  {
   "cell_type": "markdown",
   "metadata": {},
   "source": [
    "## Top 10 highest runs scorer in IPL 2008-2016"
   ]
  },
  {
   "cell_type": "code",
   "execution_count": 13,
   "metadata": {},
   "outputs": [
    {
     "data": {
      "text/html": [
       "<div>\n",
       "<style scoped>\n",
       "    .dataframe tbody tr th:only-of-type {\n",
       "        vertical-align: middle;\n",
       "    }\n",
       "\n",
       "    .dataframe tbody tr th {\n",
       "        vertical-align: top;\n",
       "    }\n",
       "\n",
       "    .dataframe thead th {\n",
       "        text-align: right;\n",
       "    }\n",
       "</style>\n",
       "<table border=\"1\" class=\"dataframe\">\n",
       "  <thead>\n",
       "    <tr style=\"text-align: right;\">\n",
       "      <th></th>\n",
       "      <th>batsman_runs</th>\n",
       "    </tr>\n",
       "    <tr>\n",
       "      <th>batsman</th>\n",
       "      <th></th>\n",
       "    </tr>\n",
       "  </thead>\n",
       "  <tbody>\n",
       "    <tr>\n",
       "      <th>SK Raina</th>\n",
       "      <td>4548</td>\n",
       "    </tr>\n",
       "    <tr>\n",
       "      <th>V Kohli</th>\n",
       "      <td>4423</td>\n",
       "    </tr>\n",
       "    <tr>\n",
       "      <th>RG Sharma</th>\n",
       "      <td>4207</td>\n",
       "    </tr>\n",
       "    <tr>\n",
       "      <th>G Gambhir</th>\n",
       "      <td>4132</td>\n",
       "    </tr>\n",
       "    <tr>\n",
       "      <th>DA Warner</th>\n",
       "      <td>4014</td>\n",
       "    </tr>\n",
       "    <tr>\n",
       "      <th>RV Uthappa</th>\n",
       "      <td>3778</td>\n",
       "    </tr>\n",
       "    <tr>\n",
       "      <th>CH Gayle</th>\n",
       "      <td>3651</td>\n",
       "    </tr>\n",
       "    <tr>\n",
       "      <th>S Dhawan</th>\n",
       "      <td>3561</td>\n",
       "    </tr>\n",
       "    <tr>\n",
       "      <th>MS Dhoni</th>\n",
       "      <td>3560</td>\n",
       "    </tr>\n",
       "    <tr>\n",
       "      <th>AB de Villiers</th>\n",
       "      <td>3486</td>\n",
       "    </tr>\n",
       "  </tbody>\n",
       "</table>\n",
       "</div>"
      ],
      "text/plain": [
       "                batsman_runs\n",
       "batsman                     \n",
       "SK Raina                4548\n",
       "V Kohli                 4423\n",
       "RG Sharma               4207\n",
       "G Gambhir               4132\n",
       "DA Warner               4014\n",
       "RV Uthappa              3778\n",
       "CH Gayle                3651\n",
       "S Dhawan                3561\n",
       "MS Dhoni                3560\n",
       "AB de Villiers          3486"
      ]
     },
     "execution_count": 13,
     "metadata": {},
     "output_type": "execute_result"
    }
   ],
   "source": [
    "ipl_data.groupby('batsman').sum()[['batsman_runs']].sort_values(by='batsman_runs',ascending=0).head(10)"
   ]
  },
  {
   "cell_type": "markdown",
   "metadata": {},
   "source": [
    "## No. of matches played in IPL 2008 and 2016"
   ]
  },
  {
   "cell_type": "code",
   "execution_count": 14,
   "metadata": {},
   "outputs": [
    {
     "data": {
      "text/plain": [
       "636"
      ]
     },
     "execution_count": 14,
     "metadata": {},
     "output_type": "execute_result"
    }
   ],
   "source": [
    "len(ipl_data.groupby('match_id').count())"
   ]
  },
  {
   "cell_type": "markdown",
   "metadata": {},
   "source": [
    "## No. of No ball and Wide runs conceded"
   ]
  },
  {
   "cell_type": "code",
   "execution_count": 15,
   "metadata": {},
   "outputs": [
    {
     "name": "stdout",
     "output_type": "stream",
     "text": [
      "1    602\n",
      "2      9\n",
      "5      6\n",
      "3      1\n",
      "Name: noball_runs, dtype: int64\n",
      "Total runs through No balls 618\n"
     ]
    }
   ],
   "source": [
    "print(ipl_data.noball_runs.value_counts()[1:])\n",
    "print('Total runs through No balls',ipl_data.noball_runs.value_counts()[1:].sum())\n"
   ]
  },
  {
   "cell_type": "code",
   "execution_count": 16,
   "metadata": {},
   "outputs": [
    {
     "name": "stdout",
     "output_type": "stream",
     "text": [
      "1    4130\n",
      "2     211\n",
      "5     192\n",
      "3      38\n",
      "4       4\n",
      "Name: wide_runs, dtype: int64\n",
      "Total runs through Wide balls 4575\n"
     ]
    }
   ],
   "source": [
    "print(ipl_data.wide_runs.value_counts()[1:])\n",
    "print('Total runs through Wide balls',ipl_data.wide_runs.value_counts()[1:].sum())"
   ]
  },
  {
   "cell_type": "code",
   "execution_count": null,
   "metadata": {},
   "outputs": [],
   "source": []
  },
  {
   "cell_type": "markdown",
   "metadata": {},
   "source": [
    "## Total runs scored in IPL 2008-2016"
   ]
  },
  {
   "cell_type": "code",
   "execution_count": 17,
   "metadata": {},
   "outputs": [
    {
     "data": {
      "text/plain": [
       "97155"
      ]
     },
     "execution_count": 17,
     "metadata": {},
     "output_type": "execute_result"
    }
   ],
   "source": [
    "ipl_data.total_runs.value_counts().sum()-53305"
   ]
  },
  {
   "cell_type": "code",
   "execution_count": 18,
   "metadata": {},
   "outputs": [],
   "source": [
    "ipl=ipl_data.merge(ipl_data_matches, right_on=ipl_data_matches.id,left_on=ipl_data.match_id,how='right')"
   ]
  },
  {
   "cell_type": "code",
   "execution_count": 19,
   "metadata": {},
   "outputs": [
    {
     "data": {
      "text/plain": [
       "Index(['key_0', 'match_id', 'inning', 'batting_team', 'bowling_team', 'over',\n",
       "       'ball', 'batsman', 'non_striker', 'bowler', 'is_super_over',\n",
       "       'wide_runs', 'bye_runs', 'legbye_runs', 'noball_runs', 'penalty_runs',\n",
       "       'batsman_runs', 'extra_runs', 'total_runs', 'player_dismissed',\n",
       "       'dismissal_kind', 'fielder', 'id', 'season', 'city', 'date', 'team1',\n",
       "       'team2', 'toss_winner', 'toss_decision', 'result', 'dl_applied',\n",
       "       'winner', 'win_by_runs', 'win_by_wickets', 'player_of_match', 'venue',\n",
       "       'umpire1', 'umpire2', 'umpire3'],\n",
       "      dtype='object')"
      ]
     },
     "execution_count": 19,
     "metadata": {},
     "output_type": "execute_result"
    }
   ],
   "source": [
    "ipl.columns"
   ]
  },
  {
   "cell_type": "markdown",
   "metadata": {},
   "source": [
    "##  Total player of the match awards given in IPL 2008-2016"
   ]
  },
  {
   "cell_type": "code",
   "execution_count": 20,
   "metadata": {},
   "outputs": [
    {
     "data": {
      "text/plain": [
       "201"
      ]
     },
     "execution_count": 20,
     "metadata": {},
     "output_type": "execute_result"
    }
   ],
   "source": [
    "(ipl.player_of_match.nunique())"
   ]
  },
  {
   "cell_type": "code",
   "execution_count": 21,
   "metadata": {},
   "outputs": [],
   "source": [
    "mom=ipl[['player_of_match','match_id']].drop_duplicates()"
   ]
  },
  {
   "cell_type": "markdown",
   "metadata": {},
   "source": [
    "## Top 5 players with maximum number of player of the match award in IPL 2008-2016"
   ]
  },
  {
   "cell_type": "code",
   "execution_count": 22,
   "metadata": {},
   "outputs": [
    {
     "data": {
      "image/png": "[encoded data removed]",
      "text/plain": [
       "<Figure size 720x360 with 1 Axes>"
      ]
     },
     "metadata": {
      "needs_background": "light"
     },
     "output_type": "display_data"
    }
   ],
   "source": [
    "plt.figure(figsize=(10,5))\n",
    "sns.barplot(mom.player_of_match.value_counts().head().values,mom.player_of_match.value_counts().head().index,palette='cubehelix')\n",
    "plt.ylabel('Player Name')\n",
    "plt.xlabel('Number of Player of the Match Awards')\n",
    "plt.text( x=18,y=0,s=18)\n",
    "plt.text(x=16,y=1,s=16)\n",
    "plt.text(x=15,y=2,s=15)\n",
    "plt.text(x=15,y=3,s=15)\n",
    "plt.text(x=14,y=4,s=14)\n",
    "plt.xticks(range(0,20,2))\n",
    "plt.show()\n"
   ]
  },
  {
   "cell_type": "markdown",
   "metadata": {},
   "source": [
    "## Top 5 players with most dismissals"
   ]
  },
  {
   "cell_type": "code",
   "execution_count": 23,
   "metadata": {},
   "outputs": [
    {
     "data": {
      "image/png": "[encoded data removed]",
      "text/plain": [
       "<Figure size 576x504 with 1 Axes>"
      ]
     },
     "metadata": {
      "needs_background": "light"
     },
     "output_type": "display_data"
    }
   ],
   "source": [
    "plt.figure(figsize=(8,7))\n",
    "sns.barplot(x=ipl.player_dismissed.value_counts().head(5).values,y=ipl.player_dismissed.value_counts().head(5).index,palette='rocket' )\n",
    "plt.ylabel('Player Name')\n",
    "plt.xlabel('Number of Dismissals')\n",
    "plt.text( x=134,y=0,s=134)\n",
    "plt.text(x=131,y=1,s=131)\n",
    "plt.text(x=129,y=2,s=129)\n",
    "plt.text(x=128,y=3,s=128)\n",
    "plt.text(x=118,y=4,s=118)\n",
    "plt.show()\n",
    "\n",
    "\n"
   ]
  },
  {
   "cell_type": "markdown",
   "metadata": {},
   "source": [
    "## Types of Dismissals in IPL 2008-2016"
   ]
  },
  {
   "cell_type": "code",
   "execution_count": 24,
   "metadata": {},
   "outputs": [
    {
     "data": {
      "image/png": "[encoded data removed]",
      "text/plain": [
       "<Figure size 720x504 with 1 Axes>"
      ]
     },
     "metadata": {
      "needs_background": "light"
     },
     "output_type": "display_data"
    }
   ],
   "source": [
    "plt.figure(figsize=(10,7))\n",
    "x=ipl[ipl['player_dismissed']!=np.NaN][['player_dismissed','dismissal_kind']]\n",
    "sns.barplot(y=x.dismissal_kind.value_counts().index,x=x.dismissal_kind.value_counts().values,palette='Blues_d')\n",
    "plt.xticks(ticks=x.dismissal_kind.value_counts().values)\n",
    "plt.xscale('log')\n",
    "plt.ylabel('Dismissal Type')\n",
    "plt.xlabel('Number of Dismissals')\n",
    "plt.show()\n"
   ]
  },
  {
   "cell_type": "code",
   "execution_count": 25,
   "metadata": {},
   "outputs": [],
   "source": [
    "wins=ipl.groupby(['winner','match_id']).count()['inning']"
   ]
  },
  {
   "cell_type": "code",
   "execution_count": 26,
   "metadata": {},
   "outputs": [],
   "source": [
    "\n",
    "wins=wins.reset_index()"
   ]
  },
  {
   "cell_type": "markdown",
   "metadata": {},
   "source": [
    "## Teams with number of wins in IPL 2008-2016"
   ]
  },
  {
   "cell_type": "code",
   "execution_count": 27,
   "metadata": {},
   "outputs": [
    {
     "data": {
      "image/png": "[encoded data removed]",
      "text/plain": [
       "<Figure size 720x504 with 1 Axes>"
      ]
     },
     "metadata": {
      "needs_background": "light"
     },
     "output_type": "display_data"
    }
   ],
   "source": [
    "plt.figure(figsize=(10,7))\n",
    "sns.barplot(y=wins.winner.value_counts().index,x=wins.winner.value_counts().values)\n",
    "plt.xlabel('Number of wins')\n",
    "plt.ylabel('Team')\n",
    "plt.show()\n"
   ]
  },
  {
   "cell_type": "code",
   "execution_count": 28,
   "metadata": {},
   "outputs": [],
   "source": [
    "tosswin=ipl[ipl.toss_winner==ipl.winner][['toss_winner','winner','team1','team2','match_id']]"
   ]
  },
  {
   "cell_type": "code",
   "execution_count": 29,
   "metadata": {},
   "outputs": [],
   "source": [
    "tosswinn=tosswin.groupby(['toss_winner','match_id']).sum()['winner']"
   ]
  },
  {
   "cell_type": "code",
   "execution_count": 30,
   "metadata": {},
   "outputs": [],
   "source": [
    "tosswinn=tosswinn.reset_index()"
   ]
  },
  {
   "cell_type": "code",
   "execution_count": 31,
   "metadata": {},
   "outputs": [
    {
     "data": {
      "text/plain": [
       "Mumbai Indians                 48\n",
       "Kolkata Knight Riders          44\n",
       "Chennai Super Kings            42\n",
       "Royal Challengers Bangalore    35\n",
       "Rajasthan Royals               34\n",
       "Delhi Daredevils               33\n",
       "Kings XI Punjab                28\n",
       "Deccan Chargers                19\n",
       "Sunrisers Hyderabad            17\n",
       "Gujarat Lions                  10\n",
       "Rising Pune Supergiant          5\n",
       "Kochi Tuskers Kerala            4\n",
       "Rising Pune Supergiants         3\n",
       "Pune Warriors                   3\n",
       "Name: toss_winner, dtype: int64"
      ]
     },
     "execution_count": 31,
     "metadata": {},
     "output_type": "execute_result"
    }
   ],
   "source": [
    "tosswinn.toss_winner.value_counts()"
   ]
  },
  {
   "cell_type": "code",
   "execution_count": 39,
   "metadata": {},
   "outputs": [
    {
     "data": {
      "text/plain": [
       "Mumbai Indians                 92\n",
       "Chennai Super Kings            79\n",
       "Kolkata Knight Riders          77\n",
       "Royal Challengers Bangalore    73\n",
       "Kings XI Punjab                70\n",
       "Rajasthan Royals               63\n",
       "Delhi Daredevils               62\n",
       "Sunrisers Hyderabad            42\n",
       "Deccan Chargers                29\n",
       "Gujarat Lions                  13\n",
       "Pune Warriors                  12\n",
       "Rising Pune Supergiant         10\n",
       "Kochi Tuskers Kerala            6\n",
       "Rising Pune Supergiants         5\n",
       "Name: winner, dtype: int64"
      ]
     },
     "execution_count": 39,
     "metadata": {},
     "output_type": "execute_result"
    }
   ],
   "source": [
    "wins.winner.value_counts()"
   ]
  },
  {
   "cell_type": "code",
   "execution_count": null,
   "metadata": {},
   "outputs": [],
   "source": []
  },
  {
   "cell_type": "code",
   "execution_count": null,
   "metadata": {},
   "outputs": [],
   "source": []
  },
  {
   "cell_type": "code",
   "execution_count": null,
   "metadata": {},
   "outputs": [],
   "source": []
  }
 ],
 "metadata": {
  "kernelspec": {
   "display_name": "Python 3",
   "language": "python",
   "name": "python3"
  },
  "language_info": {
   "codemirror_mode": {
    "name": "ipython",
    "version": 3
   },
   "file_extension": ".py",
   "mimetype": "text/x-python",
   "name": "python",
   "nbconvert_exporter": "python",
   "pygments_lexer": "ipython3",
   "version": "3.7.3"
  }
 },
 "nbformat": 4,
 "nbformat_minor": 2
}
